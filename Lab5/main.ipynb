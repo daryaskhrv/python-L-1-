{
 "cells": [
  {
   "cell_type": "markdown",
   "metadata": {},
   "source": [
    "Подключение библиотек:"
   ]
  },
  {
   "cell_type": "code",
   "execution_count": null,
   "metadata": {},
   "outputs": [],
   "source": [
    "import glob\n",
    "from PIL import Image\n",
    "\n",
    "import torch\n",
    "\n",
    "#using numpy\n",
    "import numpy as np\n",
    "\n",
    "#for data load or save\n",
    "import pandas as pd\n",
    "\n",
    "#visualize some datasets\n",
    "import matplotlib.pyplot as plt\n",
    "\n",
    "#check our work directory\n",
    "import os"
   ]
  }
 ],
 "metadata": {
  "kernelspec": {
   "display_name": "Python 3.10.7 ('.venv': venv)",
   "language": "python",
   "name": "python3"
  },
  "language_info": {
   "name": "python",
   "version": "3.10.7"
  },
  "orig_nbformat": 4,
  "vscode": {
   "interpreter": {
    "hash": "7b0042a206c97a41d7897377ebcaec647a734815737e82eddb2e13daabffc5b5"
   }
  }
 },
 "nbformat": 4,
 "nbformat_minor": 2
}
